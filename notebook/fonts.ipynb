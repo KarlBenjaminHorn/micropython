{
 "cells": [
  {
   "cell_type": "markdown",
   "metadata": {},
   "source": [
    "# Fonts\n",
    "\n",
    "Here we convert some fonts to binary format, so that it can be saved in the micropython's memory.\n",
    "\n",
    "We use an external tool for handling the conversion, and the command should look like \n",
    "\n",
    "```bash\n",
    "> convert -background none -fill black -font VCR_OSD_MONO_1.001.ttf -pointsize 21 label:\"z\" +repage -depth 1 z.png\n",
    "```"
   ]
  },
  {
   "cell_type": "code",
   "execution_count": 1,
   "metadata": {
    "ExecuteTime": {
     "end_time": "2017-01-02T13:49:29.758008",
     "start_time": "2017-01-02T13:49:28.829466"
    },
    "collapsed": false
   },
   "outputs": [
    {
     "name": "stdout",
     "output_type": "stream",
     "text": [
      "Populating the interactive namespace from numpy and matplotlib\n"
     ]
    }
   ],
   "source": [
    "%pylab inline\n",
    "%config InlineBackend.figure_format = 'png'\n",
    "\n",
    "import subprocess"
   ]
  },
  {
   "cell_type": "markdown",
   "metadata": {},
   "source": [
    "Here we define the characters we want to convert. When it is known that only a subset, e.g., only numbers are required, the font's memory footprint can be reduced by dropping the unnecessary characters."
   ]
  },
  {
   "cell_type": "code",
   "execution_count": 2,
   "metadata": {
    "ExecuteTime": {
     "end_time": "2017-01-02T13:49:32.960756",
     "start_time": "2017-01-02T13:49:32.953747"
    },
    "collapsed": false
   },
   "outputs": [],
   "source": [
    "lower_case_letters = 'abcdefghijklmnopqrstuvwxyz'\n",
    "upper_case_letters = lower_case_letters.upper()\n",
    "numbers = '0123456789'\n",
    "punctuation = ',;.?!@#$%^&*()+-/_'"
   ]
  },
  {
   "cell_type": "markdown",
   "metadata": {},
   "source": [
    "This functions calls the linux utility *convert* to produce a png image from the font glyphs. When a proper python tool, e.g., *freetype* is available, it could be inserted here."
   ]
  },
  {
   "cell_type": "code",
   "execution_count": 72,
   "metadata": {
    "ExecuteTime": {
     "end_time": "2017-01-03T16:04:33.114552",
     "start_time": "2017-01-03T16:04:33.096526"
    },
    "collapsed": false
   },
   "outputs": [],
   "source": [
    "def convert_font_to_matrix(fontfile, fontsize):\n",
    "    # The coordinate systems of the ILI and SSD displays are different, \n",
    "    # therefore, one can't take the same font descriptions\n",
    "    dic = {}\n",
    "    for c in lower_case_letters + upper_case_letters + numbers + punctuation:\n",
    "        command = ['convert', '-background', 'none', '-fill', 'black', '-font', '%s'%fontfile, \n",
    "                   '-pointsize', '%d'%fontsize, 'label:%c'%c, '+repage', '-depth', '1', '/dev/shm/font.png']\n",
    "        subprocess.call(command)\n",
    "        font_matrix = sum(imread('/dev/shm/font.png'), 2)\n",
    "        nz = nonzero(sum(font_matrix, 0, dtype='int'))\n",
    "        dic[c] = font_matrix[:,nz[0][0]:nz[0][-1]]\n",
    "    return dic"
   ]
  },
  {
   "cell_type": "markdown",
   "metadata": {},
   "source": [
    "These two functions are used to visually inspect the fonts. They take the font dictionary produced by convert_font_to_matrix, and display either a character, or an arbitrary string."
   ]
  },
  {
   "cell_type": "code",
   "execution_count": 4,
   "metadata": {
    "ExecuteTime": {
     "end_time": "2017-01-02T13:49:39.689990",
     "start_time": "2017-01-02T13:49:39.669381"
    },
    "collapsed": true
   },
   "outputs": [],
   "source": [
    "def draw_character(char):\n",
    "    fig, (ax) = subplots(1)\n",
    "    pcolormesh(flipud(char))\n",
    "    ax.set_aspect(1)\n",
    "    \n",
    "def draw_string(font, string):\n",
    "    fig, (ax) = subplots(1)\n",
    "    (h, w) = shape(font['0'])\n",
    "    zeroarray = zeros((h, 1))\n",
    "    m = concatenate([concatenate([flipud(font[char]), zeroarray], 1) for char in string], 1)        \n",
    "    pcolormesh(m)\n",
    "    ax.set_aspect(1)"
   ]
  },
  {
   "cell_type": "code",
   "execution_count": 76,
   "metadata": {
    "ExecuteTime": {
     "end_time": "2017-01-03T22:16:36.040089",
     "start_time": "2017-01-03T22:16:32.822392"
    },
    "collapsed": false,
    "scrolled": true
   },
   "outputs": [],
   "source": [
    "font = convert_font_to_matrix('FreeSans.ttf', 32)"
   ]
  },
  {
   "cell_type": "markdown",
   "metadata": {},
   "source": [
    "The conversion to matrices leaves a huge white space on the bottom and the top of the fonts, so we have to remove that."
   ]
  },
  {
   "cell_type": "code",
   "execution_count": 58,
   "metadata": {
    "ExecuteTime": {
     "end_time": "2017-01-03T11:37:49.609385",
     "start_time": "2017-01-03T11:37:49.284581"
    },
    "collapsed": false,
    "scrolled": false
   },
   "outputs": [
    {
     "data": {
      "image/png": "[encoded data removed]",
      "text/plain": [
       "<matplotlib.figure.Figure at 0x7f6394e92e10>"
      ]
     },
     "metadata": {},
     "output_type": "display_data"
    }
   ],
   "source": [
    "draw_character(font['Q'])"
   ]
  },
  {
   "cell_type": "code",
   "execution_count": 7,
   "metadata": {
    "ExecuteTime": {
     "end_time": "2017-01-02T13:49:57.402273",
     "start_time": "2017-01-02T13:49:57.387946"
    },
    "collapsed": false
   },
   "outputs": [],
   "source": [
    "def font_sizer(font):\n",
    "    # We have to trim the empty pixels in the font dictionary\n",
    "    l = array(sum(font['0'], 1, dtype='int'))\n",
    "    new_font = {}\n",
    "    for k in font.keys():\n",
    "        l += sum(font[k], 1, dtype='int')\n",
    "    nz = nonzero(l)\n",
    "    for k in font.keys():\n",
    "        new_font[k] = font[k][nz[0][0]:nz[0][-1],:]\n",
    "    return new_font"
   ]
  },
  {
   "cell_type": "code",
   "execution_count": 59,
   "metadata": {
    "ExecuteTime": {
     "end_time": "2017-01-03T11:40:24.435818",
     "start_time": "2017-01-03T11:40:24.426145"
    },
    "collapsed": false
   },
   "outputs": [],
   "source": [
    "font = font_sizer(font)"
   ]
  },
  {
   "cell_type": "code",
   "execution_count": 60,
   "metadata": {
    "ExecuteTime": {
     "end_time": "2017-01-03T11:40:25.483352",
     "start_time": "2017-01-03T11:40:25.178137"
    },
    "collapsed": false,
    "scrolled": true
   },
   "outputs": [
    {
     "data": {
      "image/png": "[encoded data removed]",
      "text/plain": [
       "<matplotlib.figure.Figure at 0x7f6394d46160>"
      ]
     },
     "metadata": {},
     "output_type": "display_data"
    }
   ],
   "source": [
    "draw_character(font['Q'])"
   ]
  },
  {
   "cell_type": "code",
   "execution_count": 61,
   "metadata": {
    "ExecuteTime": {
     "end_time": "2017-01-03T11:41:45.138325",
     "start_time": "2017-01-03T11:41:44.824031"
    },
    "collapsed": false,
    "scrolled": false
   },
   "outputs": [
    {
     "data": {
      "image/png": "[encoded data removed]",
      "text/plain": [
       "<matplotlib.figure.Figure at 0x7f6394c8b860>"
      ]
     },
     "metadata": {},
     "output_type": "display_data"
    }
   ],
   "source": [
    "draw_string(font, lower_case_letters)"
   ]
  },
  {
   "cell_type": "code",
   "execution_count": 62,
   "metadata": {
    "ExecuteTime": {
     "end_time": "2017-01-03T11:41:49.792899",
     "start_time": "2017-01-03T11:41:49.467207"
    },
    "collapsed": false,
    "scrolled": true
   },
   "outputs": [
    {
     "data": {
      "image/png": "[encoded data removed]",
      "text/plain": [
       "<matplotlib.figure.Figure at 0x7f6394ef16a0>"
      ]
     },
     "metadata": {},
     "output_type": "display_data"
    }
   ],
   "source": [
    "draw_string(font, upper_case_letters)"
   ]
  },
  {
   "cell_type": "code",
   "execution_count": 63,
   "metadata": {
    "ExecuteTime": {
     "end_time": "2017-01-03T11:41:54.728329",
     "start_time": "2017-01-03T11:41:54.420609"
    },
    "collapsed": false,
    "scrolled": false
   },
   "outputs": [
    {
     "data": {
      "image/png": "[encoded data removed]",
      "text/plain": [
       "<matplotlib.figure.Figure at 0x7f63951cd3c8>"
      ]
     },
     "metadata": {},
     "output_type": "display_data"
    }
   ],
   "source": [
    "draw_string(font, numbers)"
   ]
  },
  {
   "cell_type": "markdown",
   "metadata": {},
   "source": [
    "Here we convert the font matrix to a binary (hex) string. The widths are not fixed, the host should determine that from the lengths of the hex strings and the height of the character."
   ]
  },
  {
   "cell_type": "code",
   "execution_count": 64,
   "metadata": {
    "ExecuteTime": {
     "end_time": "2017-01-03T11:42:17.128024",
     "start_time": "2017-01-03T11:42:17.116962"
    },
    "collapsed": false
   },
   "outputs": [],
   "source": [
    "def array_to_byte(arr):\n",
    "    byte = uint8(0)\n",
    "    for bit in arr:\n",
    "        byte <<= 1\n",
    "        byte |= bit\n",
    "    return uint8(byte)"
   ]
  },
  {
   "cell_type": "code",
   "execution_count": 74,
   "metadata": {
    "ExecuteTime": {
     "end_time": "2017-01-03T16:06:46.391343",
     "start_time": "2017-01-03T16:06:46.364372"
    },
    "collapsed": false
   },
   "outputs": [],
   "source": [
    "def font_to_binary(font, display='ili'):\n",
    "    dic = {}\n",
    "    for k in font.keys():\n",
    "        font_matrix = array(font[k], dtype='int')\n",
    "        if display in ('ili0'):\n",
    "            font_matrix = rot90(font_matrix)\n",
    "        if display in ('ili90'):\n",
    "            font_matrix = flipud(font_matrix)\n",
    "        font_matrix = reshape(font_matrix, -1, order='F')\n",
    "        # Here we have to pad the array, so that we can work with whole bytes\n",
    "        font_matrix = pad(font_matrix, (0, abs(len(font_matrix)%(-8))), 'constant', constant_values=0)\n",
    "#         font_matrix = reshape(font_matrix, (len(font_matrix)/8, 8))\n",
    "        val = list([])\n",
    "        for i in range(0, len(font_matrix), 8):\n",
    "            val.append(array_to_byte(font_matrix[i:i+8]))\n",
    "#         for i in range(shape(font_matrix)[0]):\n",
    "#             val.append(array_to_byte(font_matrix[i, :]))\n",
    "        dic[k] = val #''.join(['\\\\x{:02x}'.format(b) for b in val])\n",
    "    return dic"
   ]
  },
  {
   "cell_type": "code",
   "execution_count": 77,
   "metadata": {
    "ExecuteTime": {
     "end_time": "2017-01-03T22:16:46.326687",
     "start_time": "2017-01-03T22:16:46.124326"
    },
    "collapsed": false,
    "scrolled": true
   },
   "outputs": [],
   "source": [
    "binary_font = font_to_binary(font)"
   ]
  },
  {
   "cell_type": "code",
   "execution_count": 67,
   "metadata": {
    "ExecuteTime": {
     "end_time": "2017-01-03T11:42:26.011575",
     "start_time": "2017-01-03T11:42:26.003364"
    },
    "collapsed": false
   },
   "outputs": [],
   "source": [
    "def font_footprint(font):\n",
    "    # returns the number of bytes used by the font\n",
    "    binary_font = font_to_binary(font)\n",
    "    return sum([len(binary_font[l]) for l in binary_font.keys()])"
   ]
  },
  {
   "cell_type": "code",
   "execution_count": 79,
   "metadata": {
    "ExecuteTime": {
     "end_time": "2017-01-03T22:17:42.176252",
     "start_time": "2017-01-03T22:17:42.163079"
    },
    "collapsed": false
   },
   "outputs": [
    {
     "data": {
      "text/plain": [
       "80"
      ]
     },
     "execution_count": 79,
     "metadata": {},
     "output_type": "execute_result"
    }
   ],
   "source": [
    "len(numbers+lower_case_letters+upper_case_letters+punctuation)"
   ]
  },
  {
   "cell_type": "code",
   "execution_count": 78,
   "metadata": {
    "ExecuteTime": {
     "end_time": "2017-01-03T22:16:49.331756",
     "start_time": "2017-01-03T22:16:49.153610"
    },
    "collapsed": false,
    "scrolled": true
   },
   "outputs": [
    {
     "data": {
      "text/plain": [
       "7326"
      ]
     },
     "execution_count": 78,
     "metadata": {},
     "output_type": "execute_result"
    }
   ],
   "source": [
    "font_footprint(font)"
   ]
  },
  {
   "cell_type": "code",
   "execution_count": 69,
   "metadata": {
    "ExecuteTime": {
     "end_time": "2017-01-03T11:42:31.801124",
     "start_time": "2017-01-03T11:42:31.787628"
    },
    "collapsed": false,
    "scrolled": true
   },
   "outputs": [],
   "source": [
    "def save_font(fn, font, fontname, mode='a'):\n",
    "    fs = shape(font[list(font.keys())[0]])[0]\n",
    "    binary_font = font_to_binary(font)\n",
    "    with open(fn, mode) as fout:\n",
    "        fout.write('\\n\\nclass %s(object):\\n\\n'%fontname)\n",
    "        fout.write('\\tdef __init__(self):\\n\\t\\t')\n",
    "        fout.write('self.font = {\\n\\t\\t\\t' + ''.join('\"%s\": %s,\\\\\\n\\t\\t\\t'%(key, bytes(val)) for key, val in sorted(binary_font.items())) + '}')\n",
    "        fout.write('\\n\\n\\tdef height(self): return %d\\n'%fs)"
   ]
  },
  {
   "cell_type": "code",
   "execution_count": 34,
   "metadata": {
    "ExecuteTime": {
     "end_time": "2017-01-02T16:22:33.814599",
     "start_time": "2017-01-02T16:22:33.740156"
    },
    "collapsed": false
   },
   "outputs": [],
   "source": [
    "save_font('font.py', font, 'FreeSans25', mode='w')"
   ]
  },
  {
   "cell_type": "code",
   "execution_count": 45,
   "metadata": {
    "ExecuteTime": {
     "end_time": "2017-01-02T22:25:38.478528",
     "start_time": "2017-01-02T22:25:36.465357"
    },
    "collapsed": true
   },
   "outputs": [],
   "source": [
    "font = convert_font_to_matrix('FreeSans.ttf', 25)\n",
    "font = font_sizer(font)\n",
    "binary_font = font_to_binary(font)"
   ]
  },
  {
   "cell_type": "code",
   "execution_count": null,
   "metadata": {
    "collapsed": true
   },
   "outputs": [],
   "source": [
    "draw_character()"
   ]
  },
  {
   "cell_type": "code",
   "execution_count": 75,
   "metadata": {
    "ExecuteTime": {
     "end_time": "2017-01-03T16:07:25.460760",
     "start_time": "2017-01-03T16:07:14.003266"
    },
    "collapsed": true
   },
   "outputs": [],
   "source": [
    "for fs in (12, 16, 20, 24, 28, 32):\n",
    "    font = convert_font_to_matrix('FreeSans.ttf', fs)\n",
    "    font = font_sizer(font)\n",
    "    binary_font = font_to_binary(font)\n",
    "    save_font('freesans.py', font, 'FreeSans%d'%fs, mode='a')"
   ]
  },
  {
   "cell_type": "code",
   "execution_count": 49,
   "metadata": {
    "ExecuteTime": {
     "end_time": "2017-01-03T11:12:49.747210",
     "start_time": "2017-01-03T11:12:49.737209"
    },
    "collapsed": false
   },
   "outputs": [
    {
     "data": {
      "text/plain": [
       "b'\\x00\\x0c\\x00\\x00\\x18\\x00\\x000\\x00\\x00`\\x00\\x00\\xc0\\x00?\\xfc\\x00\\x7f\\xf8\\x00\\x06\\x00\\x00\\x0c\\x00\\x00\\x18\\x00\\x000\\x00'"
      ]
     },
     "execution_count": 49,
     "metadata": {},
     "output_type": "execute_result"
    }
   ],
   "source": [
    "from freesans import FreeSans24\n",
    "\n",
    "f = FreeSans24()\n",
    "\n",
    "f.font['+']"
   ]
  },
  {
   "cell_type": "code",
   "execution_count": 54,
   "metadata": {
    "ExecuteTime": {
     "end_time": "2017-01-03T11:13:44.428607",
     "start_time": "2017-01-03T11:13:44.401843"
    },
    "collapsed": true
   },
   "outputs": [],
   "source": [
    "def display_character(x, y, char, font):\n",
    "    h = font.height() #font.height()\n",
    "    c = font.font[char]\n",
    "    w, _ = divmod(len(c)*8, h)\n",
    "    mat = zeros((h, w))\n",
    "    k, l = 0, 0\n",
    "    byte = 128\n",
    "    for j in range(w):\n",
    "        for i in range(h):\n",
    "            if c[k] & byte: mat[i, j] = 1\n",
    "            l += 1\n",
    "            byte >>= 1\n",
    "            if l == 8:\n",
    "                k += 1\n",
    "                byte = 128\n",
    "#                 print(byte)\n",
    "                l = 0\n",
    "    draw_character(mat)\n",
    "    return mat"
   ]
  },
  {
   "cell_type": "code",
   "execution_count": 55,
   "metadata": {
    "ExecuteTime": {
     "end_time": "2017-01-03T11:13:45.481083",
     "start_time": "2017-01-03T11:13:45.193083"
    },
    "collapsed": false
   },
   "outputs": [
    {
     "data": {
      "text/plain": [
       "array([[ 0.,  0.,  0.,  0.,  0.,  0.,  0.,  0.,  0.,  0.,  0.],\n",
       "       [ 0.,  0.,  0.,  0.,  0.,  0.,  0.,  0.,  0.,  0.,  0.],\n",
       "       [ 0.,  0.,  0.,  0.,  0.,  0.,  0.,  0.,  0.,  0.,  0.],\n",
       "       [ 0.,  0.,  0.,  0.,  0.,  0.,  0.,  0.,  0.,  0.,  0.],\n",
       "       [ 0.,  0.,  0.,  0.,  0.,  0.,  0.,  0.,  0.,  0.,  0.],\n",
       "       [ 0.,  0.,  0.,  0.,  0.,  0.,  0.,  0.,  0.,  0.,  0.],\n",
       "       [ 0.,  0.,  0.,  0.,  0.,  0.,  0.,  0.,  0.,  0.,  0.],\n",
       "       [ 0.,  0.,  0.,  0.,  0.,  1.,  1.,  0.,  0.,  0.,  0.],\n",
       "       [ 0.,  0.,  0.,  0.,  0.,  1.,  1.,  0.,  0.,  0.,  0.],\n",
       "       [ 0.,  0.,  0.,  0.,  0.,  1.,  1.,  0.,  0.,  0.,  0.],\n",
       "       [ 0.,  0.,  0.,  0.,  0.,  1.,  1.,  0.,  0.,  0.,  0.],\n",
       "       [ 0.,  0.,  0.,  0.,  0.,  1.,  1.,  0.,  0.,  0.,  0.],\n",
       "       [ 1.,  1.,  1.,  1.,  1.,  1.,  1.,  1.,  1.,  1.,  1.],\n",
       "       [ 1.,  1.,  1.,  1.,  1.,  1.,  1.,  1.,  1.,  1.,  1.],\n",
       "       [ 0.,  0.,  0.,  0.,  0.,  1.,  1.,  0.,  0.,  0.,  0.],\n",
       "       [ 0.,  0.,  0.,  0.,  0.,  1.,  1.,  0.,  0.,  0.,  0.],\n",
       "       [ 0.,  0.,  0.,  0.,  0.,  1.,  1.,  0.,  0.,  0.,  0.],\n",
       "       [ 0.,  0.,  0.,  0.,  0.,  1.,  1.,  0.,  0.,  0.,  0.],\n",
       "       [ 0.,  0.,  0.,  0.,  0.,  1.,  1.,  0.,  0.,  0.,  0.],\n",
       "       [ 0.,  0.,  0.,  0.,  0.,  0.,  0.,  0.,  0.,  0.,  0.],\n",
       "       [ 0.,  0.,  0.,  0.,  0.,  0.,  0.,  0.,  0.,  0.,  0.],\n",
       "       [ 0.,  0.,  0.,  0.,  0.,  0.,  0.,  0.,  0.,  0.,  0.],\n",
       "       [ 0.,  0.,  0.,  0.,  0.,  0.,  0.,  0.,  0.,  0.,  0.]])"
      ]
     },
     "execution_count": 55,
     "metadata": {},
     "output_type": "execute_result"
    },
    {
     "data": {
      "image/png": "[encoded data removed]",
      "text/plain": [
       "<matplotlib.figure.Figure at 0x7f6394b5c588>"
      ]
     },
     "metadata": {},
     "output_type": "display_data"
    }
   ],
   "source": [
    "display_character(0, 0, '+', f)"
   ]
  },
  {
   "cell_type": "code",
   "execution_count": 40,
   "metadata": {
    "ExecuteTime": {
     "end_time": "2017-01-02T22:22:35.245305",
     "start_time": "2017-01-02T22:22:35.170270"
    },
    "collapsed": false
   },
   "outputs": [
    {
     "ename": "TypeError",
     "evalue": "'FreeSans24' object is not subscriptable",
     "output_type": "error",
     "traceback": [
      "\u001b[0;31m---------------------------------------------------------------------------\u001b[0m",
      "\u001b[0;31mTypeError\u001b[0m                                 Traceback (most recent call last)",
      "\u001b[0;32m<ipython-input-40-c96b6c8a441a>\u001b[0m in \u001b[0;36m<module>\u001b[0;34m()\u001b[0m\n\u001b[0;32m----> 1\u001b[0;31m \u001b[0mdraw_character\u001b[0m\u001b[0;34m(\u001b[0m\u001b[0mf\u001b[0m\u001b[0;34m[\u001b[0m\u001b[0;34m'0'\u001b[0m\u001b[0;34m]\u001b[0m\u001b[0;34m)\u001b[0m\u001b[0;34m\u001b[0m\u001b[0m\n\u001b[0m",
      "\u001b[0;31mTypeError\u001b[0m: 'FreeSans24' object is not subscriptable"
     ]
    }
   ],
   "source": [
    "draw_character(f['0'])"
   ]
  },
  {
   "cell_type": "code",
   "execution_count": null,
   "metadata": {
    "collapsed": true
   },
   "outputs": [],
   "source": []
  }
 ],
 "metadata": {
  "anaconda-cloud": {},
  "kernelspec": {
   "display_name": "Python [conda env:jupyter]",
   "language": "python",
   "name": "conda-env-jupyter-py"
  },
  "language_info": {
   "codemirror_mode": {
    "name": "ipython",
    "version": 3
   },
   "file_extension": ".py",
   "mimetype": "text/x-python",
   "name": "python",
   "nbconvert_exporter": "python",
   "pygments_lexer": "ipython3",
   "version": "3.5.2"
  },
  "toc": {
   "nav_menu": {
    "height": "30px",
    "width": "252px"
   },
   "navigate_menu": true,
   "number_sections": true,
   "sideBar": true,
   "threshold": 4,
   "toc_cell": false,
   "toc_section_display": "block",
   "toc_window_display": false
  }
 },
 "nbformat": 4,
 "nbformat_minor": 2
}
